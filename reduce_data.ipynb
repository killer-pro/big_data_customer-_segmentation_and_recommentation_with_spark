{
 "cells": [
  {
   "cell_type": "code",
   "execution_count": 1,
   "id": "a93294f7",
   "metadata": {},
   "outputs": [
    {
     "name": "stdout",
     "output_type": "stream",
     "text": [
      "File ../data/2019-Oct.csv processed and saved as ../data/2019-Oct_reduit.csv\n",
      "File ../data/2019-Nov.csv processed and saved as ../data/2019-Nov_reduit.csv\n"
     ]
    }
   ],
   "source": [
    "import pandas as pd\n",
    "\n",
    "# Define the number of rows to read\n",
    "nrows = 1000000\n",
    "\n",
    "# List of months\n",
    "months = [\"Oct\", \"Nov\"]\n",
    "\n",
    "# Loop through each month\n",
    "for month in months:\n",
    "    # Construct the file path\n",
    "    file_path = f\"../data/2019-{month}.csv\"\n",
    "    \n",
    "    # Read the CSV file into a DataFrame, limiting the number of rows\n",
    "    df = pd.read_csv(file_path, nrows=nrows)\n",
    "    \n",
    "    # Construct the output file path\n",
    "    output_file_path = f\"../data/2019-{month}_reduit.csv\"\n",
    "    \n",
    "    # Save the reduced DataFrame to a new CSV file\n",
    "    df.to_csv(output_file_path, index=False)\n",
    "    \n",
    "    print(f\"File {file_path} processed and saved as {output_file_path}\")"
   ]
  }
 ],
 "metadata": {
  "kernelspec": {
   "display_name": "Python 3",
   "language": "python",
   "name": "python3"
  },
  "language_info": {
   "codemirror_mode": {
    "name": "ipython",
    "version": 3
   },
   "file_extension": ".py",
   "mimetype": "text/x-python",
   "name": "python",
   "nbconvert_exporter": "python",
   "pygments_lexer": "ipython3",
   "version": "3.13.3"
  }
 },
 "nbformat": 4,
 "nbformat_minor": 5
}
